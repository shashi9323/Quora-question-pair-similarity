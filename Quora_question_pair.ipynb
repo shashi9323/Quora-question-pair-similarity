{
 "cells": [
  {
   "cell_type": "code",
   "execution_count": 1,
   "metadata": {
    "colab": {},
    "colab_type": "code",
    "id": "6VXPfRp-tARR",
    "outputId": "6c27acaf-2c6a-467f-fd7a-68efce98e30b"
   },
   "outputs": [],
   "source": [
    "import pandas as pd\n",
    "import matplotlib.pyplot as plt\n",
    "import re\n",
    "import time\n",
    "import warnings\n",
    "import sqlite3\n",
    "from sqlalchemy import create_engine # database connection\n",
    "import csv\n",
    "import os\n",
    "warnings.filterwarnings(\"ignore\")\n",
    "import datetime as dt\n",
    "import numpy as np\n",
    "from nltk.corpus import stopwords\n",
    "from sklearn.decomposition import TruncatedSVD\n",
    "from sklearn.preprocessing import normalize\n",
    "from sklearn.feature_extraction.text import CountVectorizer\n",
    "from sklearn.manifold import TSNE\n",
    "import seaborn as sns\n",
    "from sklearn.neighbors import KNeighborsClassifier\n",
    "from sklearn.metrics import confusion_matrix\n",
    "from sklearn.metrics.classification import accuracy_score, log_loss\n",
    "from sklearn.feature_extraction.text import TfidfVectorizer\n",
    "from collections import Counter\n",
    "from scipy.sparse import hstack\n",
    "from sklearn.multiclass import OneVsRestClassifier\n",
    "from sklearn.svm import SVC\n",
    "\n",
    "from collections import Counter, defaultdict\n",
    "from sklearn.calibration import CalibratedClassifierCV\n",
    "from sklearn.naive_bayes import MultinomialNB\n",
    "from sklearn.naive_bayes import GaussianNB\n",
    "from sklearn.model_selection import train_test_split\n",
    "from sklearn.model_selection import GridSearchCV\n",
    "import math\n",
    "from sklearn.metrics import normalized_mutual_info_score\n",
    "from sklearn.ensemble import RandomForestClassifier\n",
    "\n",
    "\n",
    "\n",
    "from sklearn.model_selection import cross_val_score\n",
    "from sklearn.linear_model import SGDClassifier\n",
    "from mlxtend.classifier import StackingClassifier\n",
    "\n",
    "from sklearn import model_selection\n",
    "from sklearn.linear_model import LogisticRegression\n",
    "from sklearn.metrics import precision_recall_curve, auc, roc_curve"
   ]
  },
  {
   "cell_type": "code",
   "execution_count": 2,
   "metadata": {
    "scrolled": true
   },
   "outputs": [
    {
     "data": {
      "text/html": [
       "<div>\n",
       "<style scoped>\n",
       "    .dataframe tbody tr th:only-of-type {\n",
       "        vertical-align: middle;\n",
       "    }\n",
       "\n",
       "    .dataframe tbody tr th {\n",
       "        vertical-align: top;\n",
       "    }\n",
       "\n",
       "    .dataframe thead th {\n",
       "        text-align: right;\n",
       "    }\n",
       "</style>\n",
       "<table border=\"1\" class=\"dataframe\">\n",
       "  <thead>\n",
       "    <tr style=\"text-align: right;\">\n",
       "      <th></th>\n",
       "      <th>id</th>\n",
       "      <th>qid1</th>\n",
       "      <th>qid2</th>\n",
       "      <th>question1</th>\n",
       "      <th>question2</th>\n",
       "      <th>is_duplicate</th>\n",
       "    </tr>\n",
       "  </thead>\n",
       "  <tbody>\n",
       "    <tr>\n",
       "      <th>0</th>\n",
       "      <td>0</td>\n",
       "      <td>1</td>\n",
       "      <td>2</td>\n",
       "      <td>What is the step by step guide to invest in sh...</td>\n",
       "      <td>What is the step by step guide to invest in sh...</td>\n",
       "      <td>0</td>\n",
       "    </tr>\n",
       "    <tr>\n",
       "      <th>1</th>\n",
       "      <td>1</td>\n",
       "      <td>3</td>\n",
       "      <td>4</td>\n",
       "      <td>What is the story of Kohinoor (Koh-i-Noor) Dia...</td>\n",
       "      <td>What would happen if the Indian government sto...</td>\n",
       "      <td>0</td>\n",
       "    </tr>\n",
       "    <tr>\n",
       "      <th>2</th>\n",
       "      <td>2</td>\n",
       "      <td>5</td>\n",
       "      <td>6</td>\n",
       "      <td>How can I increase the speed of my internet co...</td>\n",
       "      <td>How can Internet speed be increased by hacking...</td>\n",
       "      <td>0</td>\n",
       "    </tr>\n",
       "    <tr>\n",
       "      <th>3</th>\n",
       "      <td>3</td>\n",
       "      <td>7</td>\n",
       "      <td>8</td>\n",
       "      <td>Why am I mentally very lonely? How can I solve...</td>\n",
       "      <td>Find the remainder when [math]23^{24}[/math] i...</td>\n",
       "      <td>0</td>\n",
       "    </tr>\n",
       "    <tr>\n",
       "      <th>4</th>\n",
       "      <td>4</td>\n",
       "      <td>9</td>\n",
       "      <td>10</td>\n",
       "      <td>Which one dissolve in water quikly sugar, salt...</td>\n",
       "      <td>Which fish would survive in salt water?</td>\n",
       "      <td>0</td>\n",
       "    </tr>\n",
       "  </tbody>\n",
       "</table>\n",
       "</div>"
      ],
      "text/plain": [
       "   id  qid1  qid2                                          question1  \\\n",
       "0   0     1     2  What is the step by step guide to invest in sh...   \n",
       "1   1     3     4  What is the story of Kohinoor (Koh-i-Noor) Dia...   \n",
       "2   2     5     6  How can I increase the speed of my internet co...   \n",
       "3   3     7     8  Why am I mentally very lonely? How can I solve...   \n",
       "4   4     9    10  Which one dissolve in water quikly sugar, salt...   \n",
       "\n",
       "                                           question2  is_duplicate  \n",
       "0  What is the step by step guide to invest in sh...             0  \n",
       "1  What would happen if the Indian government sto...             0  \n",
       "2  How can Internet speed be increased by hacking...             0  \n",
       "3  Find the remainder when [math]23^{24}[/math] i...             0  \n",
       "4            Which fish would survive in salt water?             0  "
      ]
     },
     "execution_count": 2,
     "metadata": {},
     "output_type": "execute_result"
    }
   ],
   "source": [
    "# avoid decoding problems\n",
    "df = pd.read_csv(\"train.csv\")\n",
    " \n",
    "# encode questions to unicode\n",
    "# https://stackoverflow.com/a/6812069\n",
    "# ----------------- python 2 ---------------------\n",
    "# df['question1'] = df['question1'].apply(lambda x: unicode(str(x),\"utf-8\"))\n",
    "# df['question2'] = df['question2'].apply(lambda x: unicode(str(x),\"utf-8\"))\n",
    "# ----------------- python 3 ---------------------\n",
    "df['question1'] = df['question1'].apply(lambda x: str(x))\n",
    "df['question2'] = df['question2'].apply(lambda x: str(x))\n",
    "\n",
    "df.head()\n",
    "\n"
   ]
  },
  {
   "cell_type": "code",
   "execution_count": 3,
   "metadata": {},
   "outputs": [],
   "source": [
    "#prepro_features_train.csv (Simple Preprocessing Feartures)\n",
    "#nlp_features_train.csv (NLP Features)\n",
    "if os.path.isfile('nlp_features_train.csv'):\n",
    "    dfnlp = pd.read_csv(\"nlp_features_train.csv\",encoding='latin-1')\n",
    "else:\n",
    "    print(\"download nlp_features_train.csv from drive or run previous notebook\")\n",
    "\n",
    "if os.path.isfile('df_fe_without_preprocessing_train.csv'):\n",
    "    dfppro = pd.read_csv(\"df_fe_without_preprocessing_train.csv\",encoding='latin-1')\n",
    "else:\n",
    "    print(\"download df_fe_without_preprocessing_train.csv from drive or run previous notebook\")\n",
    "df1 = dfnlp.drop(['qid1','qid2','question1','question2'],axis=1)\n",
    "df2 = dfppro.drop(['qid1','qid2','question1','question2','is_duplicate'],axis=1)\n",
    "df3 = df.drop(['qid1','qid2','question1','question2','is_duplicate'],axis=1)\n",
    "\n",
    "\n",
    "df_1  = df1.merge(df2, on='id',how='left') # merging two data frames"
   ]
  },
  {
   "cell_type": "code",
   "execution_count": 4,
   "metadata": {},
   "outputs": [
    {
     "data": {
      "text/html": [
       "<div>\n",
       "<style scoped>\n",
       "    .dataframe tbody tr th:only-of-type {\n",
       "        vertical-align: middle;\n",
       "    }\n",
       "\n",
       "    .dataframe tbody tr th {\n",
       "        vertical-align: top;\n",
       "    }\n",
       "\n",
       "    .dataframe thead th {\n",
       "        text-align: right;\n",
       "    }\n",
       "</style>\n",
       "<table border=\"1\" class=\"dataframe\">\n",
       "  <thead>\n",
       "    <tr style=\"text-align: right;\">\n",
       "      <th></th>\n",
       "      <th>id</th>\n",
       "      <th>is_duplicate</th>\n",
       "      <th>cwc_min</th>\n",
       "      <th>cwc_max</th>\n",
       "      <th>csc_min</th>\n",
       "      <th>csc_max</th>\n",
       "      <th>ctc_min</th>\n",
       "      <th>ctc_max</th>\n",
       "      <th>last_word_eq</th>\n",
       "      <th>first_word_eq</th>\n",
       "      <th>...</th>\n",
       "      <th>freq_qid2</th>\n",
       "      <th>q1len</th>\n",
       "      <th>q2len</th>\n",
       "      <th>q1_n_words</th>\n",
       "      <th>q2_n_words</th>\n",
       "      <th>word_Common</th>\n",
       "      <th>word_Total</th>\n",
       "      <th>word_share</th>\n",
       "      <th>freq_q1+q2</th>\n",
       "      <th>freq_q1-q2</th>\n",
       "    </tr>\n",
       "  </thead>\n",
       "  <tbody>\n",
       "    <tr>\n",
       "      <th>0</th>\n",
       "      <td>0</td>\n",
       "      <td>0</td>\n",
       "      <td>0.999980</td>\n",
       "      <td>0.833319</td>\n",
       "      <td>0.999983</td>\n",
       "      <td>0.999983</td>\n",
       "      <td>0.916659</td>\n",
       "      <td>0.785709</td>\n",
       "      <td>0.0</td>\n",
       "      <td>1.0</td>\n",
       "      <td>...</td>\n",
       "      <td>1</td>\n",
       "      <td>66</td>\n",
       "      <td>57</td>\n",
       "      <td>14</td>\n",
       "      <td>12</td>\n",
       "      <td>10.0</td>\n",
       "      <td>23.0</td>\n",
       "      <td>0.434783</td>\n",
       "      <td>2</td>\n",
       "      <td>0</td>\n",
       "    </tr>\n",
       "    <tr>\n",
       "      <th>1</th>\n",
       "      <td>1</td>\n",
       "      <td>0</td>\n",
       "      <td>0.799984</td>\n",
       "      <td>0.399996</td>\n",
       "      <td>0.749981</td>\n",
       "      <td>0.599988</td>\n",
       "      <td>0.699993</td>\n",
       "      <td>0.466664</td>\n",
       "      <td>0.0</td>\n",
       "      <td>1.0</td>\n",
       "      <td>...</td>\n",
       "      <td>1</td>\n",
       "      <td>51</td>\n",
       "      <td>88</td>\n",
       "      <td>8</td>\n",
       "      <td>13</td>\n",
       "      <td>4.0</td>\n",
       "      <td>20.0</td>\n",
       "      <td>0.200000</td>\n",
       "      <td>5</td>\n",
       "      <td>3</td>\n",
       "    </tr>\n",
       "    <tr>\n",
       "      <th>2</th>\n",
       "      <td>2</td>\n",
       "      <td>0</td>\n",
       "      <td>0.399992</td>\n",
       "      <td>0.333328</td>\n",
       "      <td>0.399992</td>\n",
       "      <td>0.249997</td>\n",
       "      <td>0.399996</td>\n",
       "      <td>0.285712</td>\n",
       "      <td>0.0</td>\n",
       "      <td>1.0</td>\n",
       "      <td>...</td>\n",
       "      <td>1</td>\n",
       "      <td>73</td>\n",
       "      <td>59</td>\n",
       "      <td>14</td>\n",
       "      <td>10</td>\n",
       "      <td>4.0</td>\n",
       "      <td>24.0</td>\n",
       "      <td>0.166667</td>\n",
       "      <td>2</td>\n",
       "      <td>0</td>\n",
       "    </tr>\n",
       "    <tr>\n",
       "      <th>3</th>\n",
       "      <td>3</td>\n",
       "      <td>0</td>\n",
       "      <td>0.000000</td>\n",
       "      <td>0.000000</td>\n",
       "      <td>0.000000</td>\n",
       "      <td>0.000000</td>\n",
       "      <td>0.000000</td>\n",
       "      <td>0.000000</td>\n",
       "      <td>0.0</td>\n",
       "      <td>0.0</td>\n",
       "      <td>...</td>\n",
       "      <td>1</td>\n",
       "      <td>50</td>\n",
       "      <td>65</td>\n",
       "      <td>11</td>\n",
       "      <td>9</td>\n",
       "      <td>0.0</td>\n",
       "      <td>19.0</td>\n",
       "      <td>0.000000</td>\n",
       "      <td>2</td>\n",
       "      <td>0</td>\n",
       "    </tr>\n",
       "    <tr>\n",
       "      <th>4</th>\n",
       "      <td>4</td>\n",
       "      <td>0</td>\n",
       "      <td>0.399992</td>\n",
       "      <td>0.199998</td>\n",
       "      <td>0.999950</td>\n",
       "      <td>0.666644</td>\n",
       "      <td>0.571420</td>\n",
       "      <td>0.307690</td>\n",
       "      <td>0.0</td>\n",
       "      <td>1.0</td>\n",
       "      <td>...</td>\n",
       "      <td>1</td>\n",
       "      <td>76</td>\n",
       "      <td>39</td>\n",
       "      <td>13</td>\n",
       "      <td>7</td>\n",
       "      <td>2.0</td>\n",
       "      <td>20.0</td>\n",
       "      <td>0.100000</td>\n",
       "      <td>4</td>\n",
       "      <td>2</td>\n",
       "    </tr>\n",
       "  </tbody>\n",
       "</table>\n",
       "<p>5 rows × 28 columns</p>\n",
       "</div>"
      ],
      "text/plain": [
       "   id  is_duplicate   cwc_min   cwc_max   csc_min   csc_max   ctc_min  \\\n",
       "0   0             0  0.999980  0.833319  0.999983  0.999983  0.916659   \n",
       "1   1             0  0.799984  0.399996  0.749981  0.599988  0.699993   \n",
       "2   2             0  0.399992  0.333328  0.399992  0.249997  0.399996   \n",
       "3   3             0  0.000000  0.000000  0.000000  0.000000  0.000000   \n",
       "4   4             0  0.399992  0.199998  0.999950  0.666644  0.571420   \n",
       "\n",
       "    ctc_max  last_word_eq  first_word_eq     ...      freq_qid2  q1len  q2len  \\\n",
       "0  0.785709           0.0            1.0     ...              1     66     57   \n",
       "1  0.466664           0.0            1.0     ...              1     51     88   \n",
       "2  0.285712           0.0            1.0     ...              1     73     59   \n",
       "3  0.000000           0.0            0.0     ...              1     50     65   \n",
       "4  0.307690           0.0            1.0     ...              1     76     39   \n",
       "\n",
       "   q1_n_words  q2_n_words  word_Common  word_Total  word_share  freq_q1+q2  \\\n",
       "0          14          12         10.0        23.0    0.434783           2   \n",
       "1           8          13          4.0        20.0    0.200000           5   \n",
       "2          14          10          4.0        24.0    0.166667           2   \n",
       "3          11           9          0.0        19.0    0.000000           2   \n",
       "4          13           7          2.0        20.0    0.100000           4   \n",
       "\n",
       "   freq_q1-q2  \n",
       "0           0  \n",
       "1           3  \n",
       "2           0  \n",
       "3           0  \n",
       "4           2  \n",
       "\n",
       "[5 rows x 28 columns]"
      ]
     },
     "execution_count": 4,
     "metadata": {},
     "output_type": "execute_result"
    }
   ],
   "source": [
    "df_1.head()"
   ]
  },
  {
   "cell_type": "code",
   "execution_count": 7,
   "metadata": {},
   "outputs": [],
   "source": [
    "df['question1'] = df['question1'].apply(lambda x: str(x))\n",
    "df['question2'] = df['question2'].apply(lambda x: str(x))"
   ]
  },
  {
   "cell_type": "code",
   "execution_count": 8,
   "metadata": {},
   "outputs": [],
   "source": [
    "questions = list(df['question1']+df['question2']) "
   ]
  },
  {
   "cell_type": "code",
   "execution_count": 9,
   "metadata": {},
   "outputs": [],
   "source": [
    "y_true = df['is_duplicate']"
   ]
  },
  {
   "cell_type": "code",
   "execution_count": 14,
   "metadata": {
    "scrolled": true
   },
   "outputs": [],
   "source": [
    "x_train,x_test, y_train, y_test = train_test_split(questions, y_true, stratify=y_true, test_size=0.3)"
   ]
  },
  {
   "cell_type": "markdown",
   "metadata": {
    "colab_type": "text",
    "id": "ZihvUPvHtARd"
   },
   "source": [
    "<h1>4. Machine Learning Models </h1>"
   ]
  },
  {
   "cell_type": "code",
   "execution_count": 15,
   "metadata": {
    "colab": {},
    "colab_type": "code",
    "id": "0oDV15LJtASY",
    "outputId": "70a1e4eb-3f31-4f1e-a53b-ad972978505d"
   },
   "outputs": [
    {
     "name": "stdout",
     "output_type": "stream",
     "text": [
      "---------- Distribution of output variable in train data ----------\n",
      "Class 0:  0.6308025003268517 Class 1:  0.36919749967314835\n",
      "---------- Distribution of output variable in train data ----------\n",
      "Class 0:  0.3691986775169639 Class 1:  0.3691986775169639\n"
     ]
    }
   ],
   "source": [
    "print(\"-\"*10, \"Distribution of output variable in train data\", \"-\"*10)\n",
    "train_distr = Counter(y_train)\n",
    "train_len = len(y_train)\n",
    "print(\"Class 0: \",int(train_distr[0])/train_len,\"Class 1: \", int(train_distr[1])/train_len)\n",
    "print(\"-\"*10, \"Distribution of output variable in train data\", \"-\"*10)\n",
    "test_distr = Counter(y_test)\n",
    "test_len = len(y_test)\n",
    "print(\"Class 0: \",int(test_distr[1])/test_len, \"Class 1: \",int(test_distr[1])/test_len)"
   ]
  },
  {
   "cell_type": "code",
   "execution_count": 16,
   "metadata": {
    "colab": {},
    "colab_type": "code",
    "id": "XfxcPT6jtASg"
   },
   "outputs": [],
   "source": [
    "# This function plots the confusion matrices given y_i, y_i_hat.\n",
    "def plot_confusion_matrix(test_y, predict_y):\n",
    "    C = confusion_matrix(test_y, predict_y)\n",
    "    # C = 9,9 matrix, each cell (i,j) represents number of points of class i are predicted class j\n",
    "    \n",
    "    A =(((C.T)/(C.sum(axis=1))).T)\n",
    "    #divid each element of the confusion matrix with the sum of elements in that column\n",
    "    \n",
    "    # C = [[1, 2],\n",
    "    #     [3, 4]]\n",
    "    # C.T = [[1, 3],\n",
    "    #        [2, 4]]\n",
    "    # C.sum(axis = 1)  axis=0 corresonds to columns and axis=1 corresponds to rows in two diamensional array\n",
    "    # C.sum(axix =1) = [[3, 7]]\n",
    "    # ((C.T)/(C.sum(axis=1))) = [[1/3, 3/7]\n",
    "    #                           [2/3, 4/7]]\n",
    "\n",
    "    # ((C.T)/(C.sum(axis=1))).T = [[1/3, 2/3]\n",
    "    #                           [3/7, 4/7]]\n",
    "    # sum of row elements = 1\n",
    "    \n",
    "    B =(C/C.sum(axis=0))\n",
    "    #divid each element of the confusion matrix with the sum of elements in that row\n",
    "    # C = [[1, 2],\n",
    "    #     [3, 4]]\n",
    "    # C.sum(axis = 0)  axis=0 corresonds to columns and axis=1 corresponds to rows in two diamensional array\n",
    "    # C.sum(axix =0) = [[4, 6]]\n",
    "    # (C/C.sum(axis=0)) = [[1/4, 2/6],\n",
    "    #                      [3/4, 4/6]] \n",
    "    plt.figure(figsize=(20,4))\n",
    "    \n",
    "    labels = [1,2]\n",
    "    # representing A in heatmap format\n",
    "    cmap=sns.light_palette(\"blue\")\n",
    "    plt.subplot(1, 3, 1)\n",
    "    sns.heatmap(C, annot=True, cmap=cmap, fmt=\".3f\", xticklabels=labels, yticklabels=labels)\n",
    "    plt.xlabel('Predicted Class')\n",
    "    plt.ylabel('Original Class')\n",
    "    plt.title(\"Confusion matrix\")\n",
    "    \n",
    "    plt.subplot(1, 3, 2)\n",
    "    sns.heatmap(B, annot=True, cmap=cmap, fmt=\".3f\", xticklabels=labels, yticklabels=labels)\n",
    "    plt.xlabel('Predicted Class')\n",
    "    plt.ylabel('Original Class')\n",
    "    plt.title(\"Precision matrix\")\n",
    "    \n",
    "    plt.subplot(1, 3, 3)\n",
    "    # representing B in heatmap format\n",
    "    sns.heatmap(A, annot=True, cmap=cmap, fmt=\".3f\", xticklabels=labels, yticklabels=labels)\n",
    "    plt.xlabel('Predicted Class')\n",
    "    plt.ylabel('Original Class')\n",
    "    plt.title(\"Recall matrix\")\n",
    "    \n",
    "    plt.show()"
   ]
  },
  {
   "cell_type": "markdown",
   "metadata": {
    "colab_type": "text",
    "id": "UStQJ5F_tASk"
   },
   "source": [
    "<h2> 4.4 Building a random model (Finding worst-case log-loss) </h2>"
   ]
  },
  {
   "cell_type": "code",
   "execution_count": 17,
   "metadata": {},
   "outputs": [
    {
     "name": "stdout",
     "output_type": "stream",
     "text": [
      "====================================================================================================\n",
      "After vectorizations\n",
      "(283003, 74159) (283003,)\n",
      "(121287, 74159) (121287,)\n",
      "====================================================================================================\n"
     ]
    }
   ],
   "source": [
    "# Using a TFIDF model\n",
    "\n",
    "print(\"=\"*100)\n",
    "\n",
    "from sklearn.feature_extraction.text import CountVectorizer\n",
    "vectorizer_tfidf = TfidfVectorizer()\n",
    "vectorizer_tfidf.fit(x_train) # fit has to happen only on train data\n",
    "\n",
    "# we use the fitted CountVectorizer to convert the text to vector\n",
    "x_train_tfidf = vectorizer_tfidf.transform(x_train)\n",
    "x_test_tfidf = vectorizer_tfidf.transform(x_test)\n",
    "\n",
    "print(\"After vectorizations\")\n",
    "print(x_train_tfidf.shape, y_train.shape)\n",
    "print(x_test_tfidf.shape, y_test.shape)\n",
    "print(\"=\"*100)\n"
   ]
  },
  {
   "cell_type": "code",
   "execution_count": 18,
   "metadata": {
    "colab": {},
    "colab_type": "code",
    "id": "qwMDqcU7tASl",
    "outputId": "c1e90d53-25ec-445b-e33a-299538520e32"
   },
   "outputs": [
    {
     "name": "stdout",
     "output_type": "stream",
     "text": [
      "Log loss on Test Data using Random Model 0.8854176176806083\n"
     ]
    },
    {
     "data": {
      "image/png": "[encoded data removed]",
      "text/plain": [
       "<Figure size 1440x288 with 6 Axes>"
      ]
     },
     "metadata": {
      "needs_background": "light"
     },
     "output_type": "display_data"
    }
   ],
   "source": [
    "# we need to generate 9 numbers and the sum of numbers should be 1\n",
    "# one solution is to genarate 9 numbers and divide each of the numbers by their sum\n",
    "# ref: https://stackoverflow.com/a/18662466/4084039\n",
    "# we create a output array that has exactly same size as the CV data\n",
    "predicted_y = np.zeros((test_len,2))\n",
    "for i in range(test_len):\n",
    "    rand_probs = np.random.rand(1,2)\n",
    "    predicted_y[i] = ((rand_probs/sum(sum(rand_probs)))[0])\n",
    "print(\"Log loss on Test Data using Random Model\",log_loss(y_test, predicted_y, eps=1e-15))\n",
    "\n",
    "predicted_y =np.argmax(predicted_y, axis=1)\n",
    "plot_confusion_matrix(y_test, predicted_y)"
   ]
  },
  {
   "cell_type": "markdown",
   "metadata": {
    "colab_type": "text",
    "id": "YgY29g_qtASq"
   },
   "source": [
    "<h2> 4.4 Logistic Regression with hyperparameter tuning </h2>"
   ]
  },
  {
   "cell_type": "code",
   "execution_count": 19,
   "metadata": {
    "colab": {},
    "colab_type": "code",
    "id": "Wb2tOE3GtASr",
    "outputId": "d7e4fc88-7d4e-4313-cda7-462a2409292e"
   },
   "outputs": [
    {
     "name": "stdout",
     "output_type": "stream",
     "text": [
      "For values of alpha =  1e-05 The log loss is: 0.5049542441493327\n",
      "For values of alpha =  0.0001 The log loss is: 0.533963517852245\n",
      "For values of alpha =  0.001 The log loss is: 0.566681116541915\n",
      "For values of alpha =  0.01 The log loss is: 0.5801836238072913\n",
      "For values of alpha =  0.1 The log loss is: 0.6275732905774358\n",
      "For values of alpha =  1 The log loss is: 0.6397819238793043\n",
      "For values of alpha =  10 The log loss is: 0.6409699955626325\n"
     ]
    },
    {
     "data": {
      "image/png": "[encoded data removed]",
      "text/plain": [
       "<Figure size 432x288 with 1 Axes>"
      ]
     },
     "metadata": {
      "needs_background": "light"
     },
     "output_type": "display_data"
    },
    {
     "name": "stdout",
     "output_type": "stream",
     "text": [
      "For values of best alpha =  1e-05 The train log loss is: 0.4856300965114643\n",
      "For values of best alpha =  1e-05 The test log loss is: 0.5049542441493327\n",
      "Total number of data points : 121287\n"
     ]
    },
    {
     "data": {
      "image/png": "[encoded data removed]",
      "text/plain": [
       "<Figure size 1440x288 with 6 Axes>"
      ]
     },
     "metadata": {
      "needs_background": "light"
     },
     "output_type": "display_data"
    }
   ],
   "source": [
    "alpha = [10 ** x for x in range(-5, 2)] # hyperparam for SGD classifier.\n",
    "\n",
    "# read more about SGDClassifier() at http://scikit-learn.org/stable/modules/generated/sklearn.linear_model.SGDClassifier.html\n",
    "# ------------------------------\n",
    "# default parameters\n",
    "# SGDClassifier(loss=’hinge’, penalty=’l2’, alpha=0.0001, l1_ratio=0.15, fit_intercept=True, max_iter=None, tol=None, \n",
    "# shuffle=True, verbose=0, epsilon=0.1, n_jobs=1, random_state=None, learning_rate=’optimal’, eta0=0.0, power_t=0.5, \n",
    "# class_weight=None, warm_start=False, average=False, n_iter=None)\n",
    "\n",
    "# some of methods\n",
    "# fit(X, y[, coef_init, intercept_init, …])\tFit linear model with Stochastic Gradient Descent.\n",
    "# predict(X)\tPredict class labels for samples in X.\n",
    "\n",
    "#-------------------------------\n",
    "# video link: \n",
    "#------------------------------\n",
    "\n",
    "\n",
    "log_error_array=[]\n",
    "for i in alpha:\n",
    "    clf = SGDClassifier(alpha=i, penalty='l2', loss='log', random_state=42)\n",
    "    clf.fit(x_train_tfidf, y_train)\n",
    "    sig_clf = CalibratedClassifierCV(clf, method=\"sigmoid\")\n",
    "    sig_clf.fit(x_train_tfidf, y_train)\n",
    "    predict_y = sig_clf.predict_proba(x_test_tfidf)\n",
    "    log_error_array.append(log_loss(y_test, predict_y, labels=clf.classes_, eps=1e-15))\n",
    "    print('For values of alpha = ', i, \"The log loss is:\",log_loss(y_test, predict_y, labels=clf.classes_, eps=1e-15))\n",
    "\n",
    "fig, ax = plt.subplots()\n",
    "ax.plot(alpha, log_error_array,c='g')\n",
    "for i, txt in enumerate(np.round(log_error_array,3)):\n",
    "    ax.annotate((alpha[i],np.round(txt,3)), (alpha[i],log_error_array[i]))\n",
    "plt.grid()\n",
    "plt.title(\"Cross Validation Error for each alpha\")\n",
    "plt.xlabel(\"Alpha i's\")\n",
    "plt.ylabel(\"Error measure\")\n",
    "plt.show()\n",
    "\n",
    "\n",
    "best_alpha = np.argmin(log_error_array)\n",
    "clf = SGDClassifier(alpha=alpha[best_alpha], penalty='l2', loss='log', random_state=42)\n",
    "clf.fit(x_train_tfidf, y_train)\n",
    "sig_clf = CalibratedClassifierCV(clf, method=\"sigmoid\")\n",
    "sig_clf.fit(x_train_tfidf, y_train)\n",
    "\n",
    "predict_y = sig_clf.predict_proba(x_train_tfidf)\n",
    "print('For values of best alpha = ', alpha[best_alpha], \"The train log loss is:\",log_loss(y_train, predict_y, labels=clf.classes_, eps=1e-15))\n",
    "predict_y = sig_clf.predict_proba(x_test_tfidf)\n",
    "print('For values of best alpha = ', alpha[best_alpha], \"The test log loss is:\",log_loss(y_test, predict_y, labels=clf.classes_, eps=1e-15))\n",
    "predicted_y =np.argmax(predict_y,axis=1)\n",
    "print(\"Total number of data points :\", len(predicted_y))\n",
    "plot_confusion_matrix(y_test, predicted_y)"
   ]
  },
  {
   "cell_type": "markdown",
   "metadata": {
    "colab_type": "text",
    "id": "ouQSEnr3tASy"
   },
   "source": [
    "<h2> 4.5 Linear SVM with hyperparameter tuning </h2>"
   ]
  },
  {
   "cell_type": "code",
   "execution_count": 20,
   "metadata": {
    "colab": {},
    "colab_type": "code",
    "id": "AOFfZ5PLtAS0",
    "outputId": "d31eb598-e275-48cb-c49b-98e9eb76d8ba"
   },
   "outputs": [
    {
     "name": "stdout",
     "output_type": "stream",
     "text": [
      "For values of alpha =  1e-05 The log loss is: 0.5207151697373714\n",
      "For values of alpha =  0.0001 The log loss is: 0.5753464033074854\n",
      "For values of alpha =  0.001 The log loss is: 0.6384694285480111\n",
      "For values of alpha =  0.01 The log loss is: 0.6585278256322725\n",
      "For values of alpha =  0.1 The log loss is: 0.6585278256322611\n",
      "For values of alpha =  1 The log loss is: 0.6585278256322723\n",
      "For values of alpha =  10 The log loss is: 0.6585278256322723\n"
     ]
    },
    {
     "data": {
      "image/png": "[encoded data removed]",
      "text/plain": [
       "<Figure size 432x288 with 1 Axes>"
      ]
     },
     "metadata": {
      "needs_background": "light"
     },
     "output_type": "display_data"
    },
    {
     "name": "stdout",
     "output_type": "stream",
     "text": [
      "For values of best alpha =  1e-05 The train log loss is: 0.5062903033329691\n",
      "For values of best alpha =  1e-05 The test log loss is: 0.5207151697373714\n",
      "Total number of data points : 121287\n"
     ]
    },
    {
     "data": {
      "image/png": "[encoded data removed]",
      "text/plain": [
       "<Figure size 1440x288 with 6 Axes>"
      ]
     },
     "metadata": {
      "needs_background": "light"
     },
     "output_type": "display_data"
    }
   ],
   "source": [
    "alpha = [10 ** x for x in range(-5, 2)] # hyperparam for SGD classifier.\n",
    "\n",
    "# read more about SGDClassifier() at http://scikit-learn.org/stable/modules/generated/sklearn.linear_model.SGDClassifier.html\n",
    "# ------------------------------\n",
    "# default parameters\n",
    "# SGDClassifier(loss=’hinge’, penalty=’l2’, alpha=0.0001, l1_ratio=0.15, fit_intercept=True, max_iter=None, tol=None, \n",
    "# shuffle=True, verbose=0, epsilon=0.1, n_jobs=1, random_state=None, learning_rate=’optimal’, eta0=0.0, power_t=0.5, \n",
    "# class_weight=None, warm_start=False, average=False, n_iter=None)\n",
    "\n",
    "# some of methods\n",
    "# fit(X, y[, coef_init, intercept_init, …])\tFit linear model with Stochastic Gradient Descent.\n",
    "# predict(X)\tPredict class labels for samples in X.\n",
    "\n",
    "#-------------------------------\n",
    "# video link: \n",
    "#------------------------------\n",
    "\n",
    "\n",
    "log_error_array=[]\n",
    "for i in alpha:\n",
    "    clf = SGDClassifier(alpha=i, penalty='l1', loss='hinge', random_state=42)\n",
    "    clf.fit(x_train_tfidf, y_train)\n",
    "    sig_clf = CalibratedClassifierCV(clf, method=\"sigmoid\")\n",
    "    sig_clf.fit(x_train_tfidf, y_train)\n",
    "    predict_y = sig_clf.predict_proba(x_test_tfidf)\n",
    "    log_error_array.append(log_loss(y_test, predict_y, labels=clf.classes_, eps=1e-15))\n",
    "    print('For values of alpha = ', i, \"The log loss is:\",log_loss(y_test, predict_y, labels=clf.classes_, eps=1e-15))\n",
    "\n",
    "fig, ax = plt.subplots()\n",
    "ax.plot(alpha, log_error_array,c='g')\n",
    "for i, txt in enumerate(np.round(log_error_array,3)):\n",
    "    ax.annotate((alpha[i],np.round(txt,3)), (alpha[i],log_error_array[i]))\n",
    "plt.grid()\n",
    "plt.title(\"Cross Validation Error for each alpha\")\n",
    "plt.xlabel(\"Alpha i's\")\n",
    "plt.ylabel(\"Error measure\")\n",
    "plt.show()\n",
    "\n",
    "\n",
    "best_alpha = np.argmin(log_error_array)\n",
    "clf = SGDClassifier(alpha=alpha[best_alpha], penalty='l1', loss='hinge', random_state=42)\n",
    "clf.fit(x_train_tfidf, y_train)\n",
    "sig_clf = CalibratedClassifierCV(clf, method=\"sigmoid\")\n",
    "sig_clf.fit(x_train_tfidf, y_train)\n",
    "\n",
    "predict_y = sig_clf.predict_proba(x_train_tfidf)\n",
    "print('For values of best alpha = ', alpha[best_alpha], \"The train log loss is:\",log_loss(y_train, predict_y, labels=clf.classes_, eps=1e-15))\n",
    "predict_y = sig_clf.predict_proba(x_test_tfidf)\n",
    "print('For values of best alpha = ', alpha[best_alpha], \"The test log loss is:\",log_loss(y_test, predict_y, labels=clf.classes_, eps=1e-15))\n",
    "predicted_y =np.argmax(predict_y,axis=1)\n",
    "print(\"Total number of data points :\", len(predicted_y))\n",
    "plot_confusion_matrix(y_test, predicted_y)"
   ]
  },
  {
   "cell_type": "markdown",
   "metadata": {
    "colab_type": "text",
    "id": "ZhTJgclztAS6"
   },
   "source": [
    "<h2> 4.6 XGBoost </h2>"
   ]
  },
  {
   "cell_type": "code",
   "execution_count": 21,
   "metadata": {
    "colab": {},
    "colab_type": "code",
    "id": "9U367-xetAS7",
    "outputId": "167e8588-2ac4-4c6d-ac22-f56a2fce5657"
   },
   "outputs": [
    {
     "name": "stdout",
     "output_type": "stream",
     "text": [
      "[0]\ttrain-logloss:0.690632\tvalid-logloss:0.690677\n",
      "Multiple eval metrics have been passed: 'valid-logloss' will be used for early stopping.\n",
      "\n",
      "Will train until valid-logloss hasn't improved in 20 rounds.\n",
      "[10]\ttrain-logloss:0.669949\tvalid-logloss:0.670403\n",
      "[20]\ttrain-logloss:0.654646\tvalid-logloss:0.65545\n",
      "[30]\ttrain-logloss:0.643056\tvalid-logloss:0.644092\n",
      "[40]\ttrain-logloss:0.634015\tvalid-logloss:0.635275\n",
      "[50]\ttrain-logloss:0.626692\tvalid-logloss:0.628139\n",
      "[60]\ttrain-logloss:0.620725\tvalid-logloss:0.622321\n",
      "[70]\ttrain-logloss:0.615673\tvalid-logloss:0.617401\n",
      "[80]\ttrain-logloss:0.611235\tvalid-logloss:0.613118\n",
      "[90]\ttrain-logloss:0.607379\tvalid-logloss:0.60937\n",
      "[100]\ttrain-logloss:0.60395\tvalid-logloss:0.606048\n",
      "[110]\ttrain-logloss:0.600871\tvalid-logloss:0.603082\n",
      "[120]\ttrain-logloss:0.59807\tvalid-logloss:0.600395\n",
      "[130]\ttrain-logloss:0.595488\tvalid-logloss:0.597906\n",
      "[140]\ttrain-logloss:0.593072\tvalid-logloss:0.595609\n",
      "[150]\ttrain-logloss:0.590829\tvalid-logloss:0.593416\n",
      "[160]\ttrain-logloss:0.588672\tvalid-logloss:0.59135\n",
      "[170]\ttrain-logloss:0.586679\tvalid-logloss:0.589409\n",
      "[180]\ttrain-logloss:0.584828\tvalid-logloss:0.587607\n",
      "[190]\ttrain-logloss:0.582909\tvalid-logloss:0.585769\n",
      "[200]\ttrain-logloss:0.581172\tvalid-logloss:0.584095\n",
      "[210]\ttrain-logloss:0.579485\tvalid-logloss:0.582481\n",
      "[220]\ttrain-logloss:0.577942\tvalid-logloss:0.580992\n",
      "[230]\ttrain-logloss:0.576397\tvalid-logloss:0.579474\n",
      "[240]\ttrain-logloss:0.575005\tvalid-logloss:0.578151\n",
      "[250]\ttrain-logloss:0.573522\tvalid-logloss:0.576702\n",
      "[260]\ttrain-logloss:0.572258\tvalid-logloss:0.57549\n",
      "[270]\ttrain-logloss:0.570973\tvalid-logloss:0.574253\n",
      "[280]\ttrain-logloss:0.569709\tvalid-logloss:0.573057\n",
      "[290]\ttrain-logloss:0.568542\tvalid-logloss:0.571962\n",
      "[300]\ttrain-logloss:0.567454\tvalid-logloss:0.570899\n",
      "[310]\ttrain-logloss:0.566241\tvalid-logloss:0.569737\n",
      "[320]\ttrain-logloss:0.565174\tvalid-logloss:0.568725\n",
      "[330]\ttrain-logloss:0.564175\tvalid-logloss:0.567782\n",
      "[340]\ttrain-logloss:0.563194\tvalid-logloss:0.566883\n",
      "[350]\ttrain-logloss:0.562223\tvalid-logloss:0.565923\n",
      "[360]\ttrain-logloss:0.561309\tvalid-logloss:0.565092\n",
      "[370]\ttrain-logloss:0.560409\tvalid-logloss:0.564254\n",
      "[380]\ttrain-logloss:0.559538\tvalid-logloss:0.563418\n",
      "[390]\ttrain-logloss:0.558673\tvalid-logloss:0.562592\n",
      "[399]\ttrain-logloss:0.55793\tvalid-logloss:0.561887\n",
      "The test log loss is: 0.5618869394823647\n"
     ]
    }
   ],
   "source": [
    "import xgboost as xgb\n",
    "params = {}\n",
    "params['objective'] = 'binary:logistic'\n",
    "params['eval_metric'] = 'logloss'\n",
    "params['eta'] = 0.02\n",
    "params['max_depth'] = 4\n",
    "\n",
    "d_train = xgb.DMatrix(x_train_tfidf, label=y_train)\n",
    "d_test = xgb.DMatrix(x_test_tfidf, label=y_test)\n",
    "\n",
    "watchlist = [(d_train, 'train'), (d_test, 'valid')]\n",
    "\n",
    "bst = xgb.train(params, d_train, 400, watchlist, early_stopping_rounds=20, verbose_eval=10)\n",
    "\n",
    "xgdmat = xgb.DMatrix(x_train_tfidf,y_train)\n",
    "predict_y = bst.predict(d_test)\n",
    "print(\"The test log loss is:\",log_loss(y_test, predict_y, labels=clf.classes_, eps=1e-15))"
   ]
  },
  {
   "cell_type": "code",
   "execution_count": 22,
   "metadata": {
    "colab": {},
    "colab_type": "code",
    "id": "6U5b17AatAS_",
    "outputId": "ca83b680-023b-4bc5-f499-8d8d85c2ff5e",
    "scrolled": true
   },
   "outputs": [
    {
     "name": "stdout",
     "output_type": "stream",
     "text": [
      "Total number of data points : 121287\n"
     ]
    },
    {
     "data": {
      "image/png": "[encoded data removed]",
      "text/plain": [
       "<Figure size 1440x288 with 6 Axes>"
      ]
     },
     "metadata": {
      "needs_background": "light"
     },
     "output_type": "display_data"
    }
   ],
   "source": [
    "predicted_y =np.array(predict_y>0.5,dtype=int)\n",
    "print(\"Total number of data points :\", len(predicted_y))\n",
    "plot_confusion_matrix(y_test, predicted_y)"
   ]
  },
  {
   "cell_type": "code",
   "execution_count": 23,
   "metadata": {},
   "outputs": [
    {
     "name": "stdout",
     "output_type": "stream",
     "text": [
      "CV with max_depth=3, min_child_weight=1\n",
      "\tLogLoss 0.6737559999999999 for 9 rounds\n",
      "CV with max_depth=3, min_child_weight=2\n",
      "\tLogLoss 0.6737629999999999 for 9 rounds\n",
      "CV with max_depth=3, min_child_weight=3\n",
      "\tLogLoss 0.6737624999999999 for 9 rounds\n",
      "CV with max_depth=3, min_child_weight=4\n",
      "\tLogLoss 0.6737628000000001 for 9 rounds\n",
      "CV with max_depth=4, min_child_weight=1\n",
      "\tLogLoss 0.6719258 for 9 rounds\n",
      "CV with max_depth=4, min_child_weight=2\n",
      "\tLogLoss 0.6719314 for 9 rounds\n",
      "CV with max_depth=4, min_child_weight=3\n",
      "\tLogLoss 0.6719323000000001 for 9 rounds\n",
      "CV with max_depth=4, min_child_weight=4\n",
      "\tLogLoss 0.6719334 for 9 rounds\n",
      "CV with max_depth=5, min_child_weight=1\n",
      "\tLogLoss 0.6698331 for 9 rounds\n",
      "CV with max_depth=5, min_child_weight=2\n",
      "\tLogLoss 0.6698388 for 9 rounds\n",
      "CV with max_depth=5, min_child_weight=3\n",
      "\tLogLoss 0.6698412 for 9 rounds\n",
      "CV with max_depth=5, min_child_weight=4\n",
      "\tLogLoss 0.6698445000000001 for 9 rounds\n",
      "CV with max_depth=6, min_child_weight=1\n",
      "\tLogLoss 0.6679794000000001 for 9 rounds\n",
      "CV with max_depth=6, min_child_weight=2\n",
      "\tLogLoss 0.6679857 for 9 rounds\n",
      "CV with max_depth=6, min_child_weight=3\n",
      "\tLogLoss 0.6679931 for 9 rounds\n",
      "CV with max_depth=6, min_child_weight=4\n",
      "\tLogLoss 0.6679944000000001 for 9 rounds\n",
      "CV with max_depth=7, min_child_weight=1\n",
      "\tLogLoss 0.6661596999999999 for 9 rounds\n",
      "CV with max_depth=7, min_child_weight=2\n",
      "\tLogLoss 0.6661857999999999 for 9 rounds\n",
      "CV with max_depth=7, min_child_weight=3\n",
      "\tLogLoss 0.6662147 for 9 rounds\n",
      "CV with max_depth=7, min_child_weight=4\n",
      "\tLogLoss 0.6662277000000001 for 9 rounds\n",
      "CV with max_depth=8, min_child_weight=1\n",
      "\tLogLoss 0.6646071 for 9 rounds\n",
      "CV with max_depth=8, min_child_weight=2\n",
      "\tLogLoss 0.6646388 for 9 rounds\n",
      "CV with max_depth=8, min_child_weight=3\n",
      "\tLogLoss 0.6646726999999999 for 9 rounds\n",
      "CV with max_depth=8, min_child_weight=4\n",
      "\tLogLoss 0.6646998999999999 for 9 rounds\n",
      "CV with max_depth=9, min_child_weight=1\n",
      "\tLogLoss 0.6632290000000001 for 9 rounds\n",
      "CV with max_depth=9, min_child_weight=2\n",
      "\tLogLoss 0.6632757999999999 for 9 rounds\n",
      "CV with max_depth=9, min_child_weight=3\n",
      "\tLogLoss 0.663306 for 9 rounds\n",
      "CV with max_depth=9, min_child_weight=4\n",
      "\tLogLoss 0.6633394 for 9 rounds\n"
     ]
    }
   ],
   "source": [
    "# hyperparameter tuning for max_depth and min_child_weight\n",
    "min_logloss = float(\"Inf\")\n",
    "best_params = None\n",
    "\n",
    "gridsearch_params = [\n",
    "    (max_depth, min_child_weight)\n",
    "    for max_depth in range(3, 10)\n",
    "    for min_child_weight in range(1, 5)\n",
    "]\n",
    "\n",
    "for max_depth, min_child_weight in gridsearch_params:\n",
    "    print(\"CV with max_depth={}, min_child_weight={}\".format(\n",
    "                             max_depth,\n",
    "                             min_child_weight))\n",
    "\n",
    "    # Update our parameters\n",
    "    params['max_depth'] = max_depth\n",
    "    params['min_child_weight'] = min_child_weight\n",
    "\n",
    "    # Run CV\n",
    "    cv_results = xgb.cv(\n",
    "        params,\n",
    "        d_train,\n",
    "        seed=42,\n",
    "        nfold=10,\n",
    "        metrics={'logloss'},\n",
    "        early_stopping_rounds=10\n",
    "    )\n",
    "    \n",
    "    mean_logloss = cv_results['test-logloss-mean'].min()\n",
    "    boost_rounds = cv_results['test-logloss-mean'].argmin()\n",
    "    print(\"\\tLogLoss {} for {} rounds\".format(mean_logloss, boost_rounds))\n",
    "    if mean_logloss < min_logloss:\n",
    "        min_logloss = mean_logloss\n",
    "        best_params = (max_depth,min_child_weight)"
   ]
  },
  {
   "cell_type": "code",
   "execution_count": 24,
   "metadata": {},
   "outputs": [
    {
     "name": "stdout",
     "output_type": "stream",
     "text": [
      "Best params: 9, 1\n"
     ]
    }
   ],
   "source": [
    "# best max_depth and min_child_weight\n",
    "print(\"Best params: {}, {}\".format(best_params[0], best_params[1]))"
   ]
  },
  {
   "cell_type": "code",
   "execution_count": 25,
   "metadata": {},
   "outputs": [
    {
     "name": "stdout",
     "output_type": "stream",
     "text": [
      "CV with subsample=0.9, colsample=0.9\n",
      "\tLogLoss 0.6636297999999999 for 9 rounds\n",
      "CV with subsample=0.9, colsample=0.8\n",
      "\tLogLoss 0.6640865 for 9 rounds\n",
      "CV with subsample=0.9, colsample=0.7\n",
      "\tLogLoss 0.6646183999999999 for 9 rounds\n",
      "CV with subsample=0.9, colsample=0.6\n",
      "\tLogLoss 0.6651883999999999 for 9 rounds\n",
      "CV with subsample=0.8, colsample=0.9\n",
      "\tLogLoss 0.6636357 for 9 rounds\n",
      "CV with subsample=0.8, colsample=0.8\n",
      "\tLogLoss 0.6640824999999999 for 9 rounds\n",
      "CV with subsample=0.8, colsample=0.7\n",
      "\tLogLoss 0.6646852 for 9 rounds\n",
      "CV with subsample=0.8, colsample=0.6\n",
      "\tLogLoss 0.6651939 for 9 rounds\n",
      "CV with subsample=0.7, colsample=0.9\n",
      "\tLogLoss 0.66359 for 9 rounds\n",
      "CV with subsample=0.7, colsample=0.8\n",
      "\tLogLoss 0.6640229000000001 for 9 rounds\n",
      "CV with subsample=0.7, colsample=0.7\n",
      "\tLogLoss 0.6646728 for 9 rounds\n",
      "CV with subsample=0.7, colsample=0.6\n",
      "\tLogLoss 0.6652055000000001 for 9 rounds\n",
      "CV with subsample=0.6, colsample=0.9\n",
      "\tLogLoss 0.6635837 for 9 rounds\n",
      "CV with subsample=0.6, colsample=0.8\n",
      "\tLogLoss 0.6640242000000001 for 9 rounds\n",
      "CV with subsample=0.6, colsample=0.7\n",
      "\tLogLoss 0.6646513 for 9 rounds\n",
      "CV with subsample=0.6, colsample=0.6\n",
      "\tLogLoss 0.6652302999999999 for 9 rounds\n",
      "Best params: 0.6, 0.9\n"
     ]
    }
   ],
   "source": [
    "# hyperparameter tuning for subsample and colsample\n",
    "gridsearch_params = [\n",
    "    (subsample, colsample)\n",
    "    for subsample in [i/10 for i in range(6,10)]\n",
    "    for colsample in [i/10 for i in range(6,10)]\n",
    "]\n",
    "\n",
    "min_logloss = float(\"Inf\")\n",
    "best_params = None\n",
    "\n",
    "for subsample, colsample in reversed(gridsearch_params):\n",
    "    print(\"CV with subsample={}, colsample={}\".format(\n",
    "                             subsample,\n",
    "                             colsample))\n",
    "\n",
    "    # We update our parameters\n",
    "    params['subsample'] = subsample\n",
    "    params['colsample_bytree'] = colsample\n",
    "\n",
    "    # Run CV\n",
    "    cv_results = xgb.cv(\n",
    "        params,\n",
    "        d_train,\n",
    "        seed=42,\n",
    "        nfold=10,\n",
    "        metrics={'logloss'},\n",
    "        early_stopping_rounds=10\n",
    "    )\n",
    "\n",
    "    # Update best score\n",
    "    mean_logloss = cv_results['test-logloss-mean'].min()\n",
    "    boost_rounds = cv_results['test-logloss-mean'].argmin()\n",
    "    print(\"\\tLogLoss {} for {} rounds\".format(mean_logloss, boost_rounds))\n",
    "    if mean_logloss < min_logloss:\n",
    "        min_logloss = mean_logloss\n",
    "        best_params = (subsample,colsample)\n",
    "\n",
    "# Best subsample and colsample \n",
    "print(\"Best params: {}, {}\".format(best_params[0], best_params[1]))"
   ]
  },
  {
   "cell_type": "code",
   "execution_count": 26,
   "metadata": {},
   "outputs": [
    {
     "name": "stdout",
     "output_type": "stream",
     "text": [
      "CV with gamma=0.0\n",
      "\tLogLoss 0.6652302999999999 for 9 rounds\n",
      "CV with gamma=0.1\n",
      "\tLogLoss 0.6652300999999999 for 9 rounds\n",
      "CV with gamma=0.2\n",
      "\tLogLoss 0.6652292000000001 for 9 rounds\n",
      "CV with gamma=0.3\n",
      "\tLogLoss 0.6652285000000001 for 9 rounds\n",
      "CV with gamma=0.4\n",
      "\tLogLoss 0.6652266000000001 for 9 rounds\n",
      "Best params: 0.4\n"
     ]
    }
   ],
   "source": [
    "# hyperparameter tuning for gamma\n",
    "min_logloss = float(\"Inf\")\n",
    "best_params = None\n",
    "\n",
    "gridsearch_params=[gamma\n",
    "    for gamma in [i/10.0 for i in range(0,5)]]\n",
    "\n",
    "for gamma in gridsearch_params:\n",
    "    print(\"CV with gamma={}\".format(gamma))\n",
    "\n",
    "    # We update our parameters\n",
    "    params['gamma'] = gamma\n",
    "\n",
    "    # Run and time CV\n",
    "    cv_results = xgb.cv(\n",
    "            params,\n",
    "            d_train,\n",
    "            seed=42,\n",
    "            nfold=10,\n",
    "            metrics=['logloss'],\n",
    "            early_stopping_rounds=10\n",
    "          )\n",
    "\n",
    "    # Update best score\n",
    "    mean_logloss = cv_results['test-logloss-mean'].min()\n",
    "    boost_rounds = cv_results['test-logloss-mean'].argmin()\n",
    "    print(\"\\tLogLoss {} for {} rounds\".format(mean_logloss, boost_rounds))\n",
    "    if mean_logloss < min_logloss:\n",
    "        min_logloss = mean_logloss\n",
    "        best_params = gamma\n",
    "\n",
    "# Best hyperparameter gamma \n",
    "print(\"Best params: {}\".format(best_params))"
   ]
  },
  {
   "cell_type": "code",
   "execution_count": 27,
   "metadata": {},
   "outputs": [
    {
     "name": "stdout",
     "output_type": "stream",
     "text": [
      "CV with reg_alpha=1e-05\n",
      "\tLogLoss 0.6652265000000002 for 9 rounds\n",
      "CV with reg_alpha=0.01\n",
      "\tLogLoss 0.6652272 for 9 rounds\n",
      "CV with reg_alpha=0.1\n",
      "\tLogLoss 0.6652354 for 9 rounds\n",
      "CV with reg_alpha=1\n",
      "\tLogLoss 0.6653066999999999 for 9 rounds\n",
      "CV with reg_alpha=100\n",
      "\tLogLoss 0.668479 for 9 rounds\n",
      "Best params: 1e-05\n"
     ]
    }
   ],
   "source": [
    "# hyperparameter tuning for reg_alpha\n",
    "min_logloss = float(\"Inf\")\n",
    "best_params = None\n",
    "\n",
    "\n",
    "for reg_alpha in [1e-5, 1e-2, 0.1, 1, 100]:\n",
    "    print(\"CV with reg_alpha={}\".format(reg_alpha))\n",
    "\n",
    "    # We update our parameters\n",
    "    params['reg_alpha'] = reg_alpha\n",
    "\n",
    "    # Run and time CV\n",
    "    cv_results = xgb.cv(\n",
    "            params,\n",
    "            d_train,\n",
    "            seed=42,\n",
    "            nfold=10,\n",
    "            metrics=['logloss'],\n",
    "            early_stopping_rounds=10\n",
    "          )\n",
    "\n",
    "    # Update best score\n",
    "    mean_logloss = cv_results['test-logloss-mean'].min()\n",
    "    boost_rounds = cv_results['test-logloss-mean'].argmin()\n",
    "    print(\"\\tLogLoss {} for {} rounds\".format(mean_logloss, boost_rounds))\n",
    "    if mean_logloss < min_logloss:\n",
    "        min_logloss = mean_logloss\n",
    "        best_params = reg_alpha\n",
    "\n",
    "# best reg_alpha        \n",
    "print(\"Best params: {}\".format(best_params))"
   ]
  },
  {
   "cell_type": "code",
   "execution_count": 28,
   "metadata": {},
   "outputs": [
    {
     "name": "stdout",
     "output_type": "stream",
     "text": [
      "CV with n_estimators=80\n",
      "\tLogLoss 0.668479 for 9 rounds\n",
      "CV with n_estimators=95\n",
      "\tLogLoss 0.668479 for 9 rounds\n",
      "CV with n_estimators=100\n",
      "\tLogLoss 0.668479 for 9 rounds\n",
      "CV with n_estimators=140\n",
      "\tLogLoss 0.668479 for 9 rounds\n",
      "CV with n_estimators=175\n",
      "\tLogLoss 0.668479 for 9 rounds\n",
      "CV with n_estimators=250\n",
      "\tLogLoss 0.668479 for 9 rounds\n",
      "CV with n_estimators=400\n",
      "\tLogLoss 0.668479 for 9 rounds\n",
      "CV with n_estimators=600\n",
      "\tLogLoss 0.668479 for 9 rounds\n",
      "CV with n_estimators=700\n",
      "\tLogLoss 0.668479 for 9 rounds\n",
      "CV with n_estimators=900\n",
      "\tLogLoss 0.668479 for 9 rounds\n",
      "Best params: 80\n"
     ]
    }
   ],
   "source": [
    "# hyperparameter tuning for number of estimators\n",
    "min_logloss = float(\"Inf\")\n",
    "best_params = None\n",
    "\n",
    "for n_estimators in [80, 95, 100, 140, 175, 250, 400, 600, 700, 900]:\n",
    "    print(\"CV with n_estimators={}\".format(n_estimators))\n",
    "\n",
    "    # We update our parameters\n",
    "    params['n_estimators'] = n_estimators\n",
    "\n",
    "    # Run and time CV\n",
    "    cv_results = xgb.cv(\n",
    "            params,\n",
    "            d_train,\n",
    "            seed=42,\n",
    "            nfold=10,\n",
    "            metrics=['logloss'],\n",
    "            early_stopping_rounds=10\n",
    "          )\n",
    "\n",
    "    # Update best score\n",
    "    mean_logloss = cv_results['test-logloss-mean'].min()\n",
    "    boost_rounds = cv_results['test-logloss-mean'].argmin()\n",
    "    print(\"\\tLogLoss {} for {} rounds\".format(mean_logloss, boost_rounds))\n",
    "    if mean_logloss < min_logloss:\n",
    "        min_logloss = mean_logloss\n",
    "        best_params = n_estimators\n",
    "# Best n_estimators\n",
    "print(\"Best params: {}\".format(best_params))"
   ]
  },
  {
   "cell_type": "code",
   "execution_count": 31,
   "metadata": {},
   "outputs": [
    {
     "name": "stdout",
     "output_type": "stream",
     "text": [
      "[0]\ttrain-logloss:0.691453\tvalid-logloss:0.691502\n",
      "Multiple eval metrics have been passed: 'valid-logloss' will be used for early stopping.\n",
      "\n",
      "Will train until valid-logloss hasn't improved in 20 rounds.\n",
      "[10]\ttrain-logloss:0.675253\tvalid-logloss:0.675816\n",
      "[20]\ttrain-logloss:0.661489\tvalid-logloss:0.662472\n",
      "[30]\ttrain-logloss:0.649662\tvalid-logloss:0.651078\n",
      "[40]\ttrain-logloss:0.639192\tvalid-logloss:0.641031\n",
      "[50]\ttrain-logloss:0.630167\tvalid-logloss:0.632446\n",
      "[60]\ttrain-logloss:0.622113\tvalid-logloss:0.624772\n",
      "[70]\ttrain-logloss:0.614719\tvalid-logloss:0.617788\n",
      "[80]\ttrain-logloss:0.608365\tvalid-logloss:0.611798\n",
      "[90]\ttrain-logloss:0.602546\tvalid-logloss:0.606331\n",
      "[100]\ttrain-logloss:0.597242\tvalid-logloss:0.601361\n",
      "[110]\ttrain-logloss:0.59255\tvalid-logloss:0.597021\n",
      "[120]\ttrain-logloss:0.588085\tvalid-logloss:0.592871\n",
      "[130]\ttrain-logloss:0.583899\tvalid-logloss:0.589016\n",
      "[140]\ttrain-logloss:0.580244\tvalid-logloss:0.585638\n",
      "[150]\ttrain-logloss:0.576675\tvalid-logloss:0.582379\n",
      "[160]\ttrain-logloss:0.573457\tvalid-logloss:0.579439\n",
      "[170]\ttrain-logloss:0.570458\tvalid-logloss:0.57672\n",
      "[180]\ttrain-logloss:0.567541\tvalid-logloss:0.574098\n",
      "[190]\ttrain-logloss:0.56496\tvalid-logloss:0.571767\n",
      "[200]\ttrain-logloss:0.562498\tvalid-logloss:0.56956\n",
      "[210]\ttrain-logloss:0.560195\tvalid-logloss:0.567479\n",
      "[220]\ttrain-logloss:0.558068\tvalid-logloss:0.565578\n",
      "[230]\ttrain-logloss:0.555928\tvalid-logloss:0.563641\n",
      "[240]\ttrain-logloss:0.553974\tvalid-logloss:0.561913\n",
      "[250]\ttrain-logloss:0.55201\tvalid-logloss:0.560155\n",
      "[260]\ttrain-logloss:0.550183\tvalid-logloss:0.558519\n",
      "[270]\ttrain-logloss:0.548506\tvalid-logloss:0.557026\n",
      "[280]\ttrain-logloss:0.546837\tvalid-logloss:0.555541\n",
      "[290]\ttrain-logloss:0.545312\tvalid-logloss:0.554194\n",
      "[300]\ttrain-logloss:0.543796\tvalid-logloss:0.552864\n",
      "[310]\ttrain-logloss:0.542326\tvalid-logloss:0.551547\n",
      "[320]\ttrain-logloss:0.540872\tvalid-logloss:0.55027\n",
      "[330]\ttrain-logloss:0.539542\tvalid-logloss:0.549096\n",
      "[340]\ttrain-logloss:0.538263\tvalid-logloss:0.547965\n",
      "[350]\ttrain-logloss:0.536898\tvalid-logloss:0.546773\n",
      "[360]\ttrain-logloss:0.535487\tvalid-logloss:0.545526\n",
      "[370]\ttrain-logloss:0.534298\tvalid-logloss:0.544508\n",
      "[380]\ttrain-logloss:0.53318\tvalid-logloss:0.543542\n",
      "[390]\ttrain-logloss:0.532127\tvalid-logloss:0.542608\n",
      "[399]\ttrain-logloss:0.531126\tvalid-logloss:0.541747\n",
      "The test log loss is: 0.5417472442871637\n"
     ]
    }
   ],
   "source": [
    "# Hyperparameter tuned model with best hyperparameters found using CV and reduced test log-loss.\n",
    "\n",
    "import xgboost as xgb\n",
    "params= {}\n",
    "\n",
    "params['n_estimators'] = 80\n",
    "params['min_child_weight'] = 1\n",
    "params['subsample'] = 0.6\n",
    "params['colsample_bytree'] = 0.9\n",
    "params['gamma'] = 0.4\n",
    "params['reg_alpha'] = 1e-05\n",
    "params['objective'] = 'binary:logistic'\n",
    "params['eval_metric'] = 'logloss'\n",
    "params['eta'] = 0.01\n",
    "params['max_depth'] = 9\n",
    "\n",
    "d_train = xgb.DMatrix(x_train_tfidf, label=y_train)\n",
    "d_test = xgb.DMatrix(x_test_tfidf, label=y_test)\n",
    "\n",
    "watchlist = [(d_train, 'train'), (d_test, 'valid')]\n",
    "\n",
    "bst = xgb.train(params, d_train, 400, watchlist, early_stopping_rounds=20, verbose_eval=10)\n",
    "\n",
    "\n",
    "xgdmat = xgb.DMatrix(x_train_tfidf,y_train)\n",
    "predict_y = bst.predict(d_test)\n",
    "print(\"The test log loss is:\",log_loss(y_test, predict_y, labels=clf.classes_, eps=1e-15))"
   ]
  },
  {
   "cell_type": "code",
   "execution_count": 32,
   "metadata": {},
   "outputs": [
    {
     "name": "stdout",
     "output_type": "stream",
     "text": [
      "Total number of data points : 121287\n"
     ]
    },
    {
     "data": {
      "image/png": "[encoded data removed]",
      "text/plain": [
       "<Figure size 1440x288 with 6 Axes>"
      ]
     },
     "metadata": {
      "needs_background": "light"
     },
     "output_type": "display_data"
    }
   ],
   "source": [
    "predicted_y =np.array(predict_y>0.5,dtype=int)\n",
    "print(\"Total number of data points :\", len(predicted_y))\n",
    "plot_confusion_matrix(y_test, predicted_y)"
   ]
  },
  {
   "cell_type": "markdown",
   "metadata": {},
   "source": [
    "<h1> Conclusion </h1>"
   ]
  },
  {
   "cell_type": "raw",
   "metadata": {},
   "source": [
    "1) Applied TFIDF vectorization on Linear SVM and Logistic regression.\n",
    "2) Useg XGBOOST with tuned hyperparameters to reduce log loss.\n",
    "3) Plotted confusion matrices for all results."
   ]
  },
  {
   "cell_type": "markdown",
   "metadata": {
    "colab_type": "text",
    "id": "WmiIgHOJtATF"
   },
   "source": [
    "<h1> 5. Assignments </h1>"
   ]
  },
  {
   "cell_type": "markdown",
   "metadata": {
    "colab_type": "text",
    "id": "CWS6JoB0tATF"
   },
   "source": [
    "1. Try out models (Logistic regression, Linear-SVM) with simple TF-IDF vectors instead of TD_IDF weighted word2Vec.\n",
    "2. Hyperparameter tune XgBoost using RandomSearch to reduce the log-loss.\n"
   ]
  }
 ],
 "metadata": {
  "colab": {
   "name": "4.ML_models.ipynb",
   "provenance": [],
   "version": "0.3.2"
  },
  "kernelspec": {
   "display_name": "Python 3",
   "language": "python",
   "name": "python3"
  },
  "language_info": {
   "codemirror_mode": {
    "name": "ipython",
    "version": 3
   },
   "file_extension": ".py",
   "mimetype": "text/x-python",
   "name": "python",
   "nbconvert_exporter": "python",
   "pygments_lexer": "ipython3",
   "version": "3.6.6"
  }
 },
 "nbformat": 4,
 "nbformat_minor": 1
}
